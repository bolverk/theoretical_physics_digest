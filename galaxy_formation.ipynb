{
 "cells": [
  {
   "cell_type": "markdown",
   "metadata": {},
   "source": [
    "# Galaxy Formation\n",
    "\n",
    "Let us consider a gravitationally bound blob of gas. As time advances, this blob will lose energy due to radiation and become more compact. However, this blob will not necessarily condense into one clump. It is possible that it will fragment and condense into multiple clumps. The condition for fragmentation is that the cooling time is shorter than the gravitational collapse time. If the cooling is due to Bremsstrahlung, then the condition can be written as\n",
    "\n",
    "$ \\frac{1}{\\sqrt{G \\rho}} > \\alpha \\frac{m_e c^2}{r_e^4 /c} \\sqrt{\\frac{k T}{m_e c^4}} \\left(n r_e^3 \\right )^2 $\n",
    "\n",
    "where $ G $ is the universal constant of gravitation, $ \\rho = \\frac{M}{R^3} $ is the mass density, $ M $ is the blob mass, $ R $ is the blob radius, $ \\alpha $ is the fine structure constant, $ m_e $ is the electron mass, $ c $ is the speed of light, $ r_e $ is the classical electron radius, $ k T = \\frac{G M m_p}{R} $ is the temperature, $ m_p $ is the proton mass and $ n = \\rho / m_p $ is the number density. This condition sets an upper limit on the radius of the blob\n",
    "\n",
    "$ R < R_g = \\alpha \\sqrt{\\frac{m_e}{m_p}} \\frac{c^2 r_e^2}{G m_p}$\n",
    "\n",
    "where the value of $ R_g $ is around 30 kpc.\n",
    "\n",
    "In this derivation we assumed that the gas is fully ionized. The condition for that is that the temperature be greater than ionization energy $ k T > \\alpha^2 m_e c^2 $. This sets a lower limit on the mass\n",
    "\n",
    "$ M > M_g = \\alpha^2 \\frac{m_e}{m_p} \\frac{R_g c^2}{G} $\n",
    "\n",
    "and $ M_g $ is of the order of $ 10^{11} M_{\\odot}$."
   ]
  }
 ],
 "metadata": {
  "kernelspec": {
   "display_name": "Python 3",
   "language": "python",
   "name": "python3"
  },
  "language_info": {
   "codemirror_mode": {
    "name": "ipython",
    "version": 3
   },
   "file_extension": ".py",
   "mimetype": "text/x-python",
   "name": "python",
   "nbconvert_exporter": "python",
   "pygments_lexer": "ipython3",
   "version": "3.6.1"
  }
 },
 "nbformat": 4,
 "nbformat_minor": 2
}
